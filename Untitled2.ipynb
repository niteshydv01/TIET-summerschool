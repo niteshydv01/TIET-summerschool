{
  "nbformat": 4,
  "nbformat_minor": 0,
  "metadata": {
    "colab": {
      "provenance": [],
      "authorship_tag": "ABX9TyPNhxcnYI2+kg6pIkCobHNR",
      "include_colab_link": true
    },
    "kernelspec": {
      "name": "python3",
      "display_name": "Python 3"
    },
    "language_info": {
      "name": "python"
    }
  },
  "cells": [
    {
      "cell_type": "markdown",
      "metadata": {
        "id": "view-in-github",
        "colab_type": "text"
      },
      "source": [
        "<a href=\"https://colab.research.google.com/github/niteshydv01/TIET-summerschool/blob/main/Untitled2.ipynb\" target=\"_parent\"><img src=\"https://colab.research.google.com/assets/colab-badge.svg\" alt=\"Open In Colab\"/></a>"
      ]
    },
    {
      "cell_type": "markdown",
      "source": [
        "list defined as L= [11, 12, 13, 14].\n",
        " WAP to add 50 and 60 to L.\n",
        "WAP to remove 11 and 13from L. \n",
        "WAP to sort L in ascending order. WAP to sort L in descending order. \n",
        "WAP to search for 13 in L.\n",
        "WAP to count the number of elements present in L. \n",
        "WAP to sum all the elements in L.\n",
        "WAP to sum all ODD numbers in L.\n",
        "WAP to sum all EVEN numbers in L.\n",
        "WAP to sum all PRIME numbers in L. WAP to clear all the elements in L.\n",
        " WAP to delete L.\n",
        "\n"
      ],
      "metadata": {
        "id": "a4w53n1EjTcI"
      }
    },
    {
      "cell_type": "code",
      "execution_count": 19,
      "metadata": {
        "colab": {
          "base_uri": "https://localhost:8080/"
        },
        "id": "YnQgblnqjSpU",
        "outputId": "b77d449e-48ef-4724-bfbc-0c810b9db6f0"
      },
      "outputs": [
        {
          "output_type": "stream",
          "name": "stdout",
          "text": [
            "the original l is [11, 12, 13, 14]\n",
            "after adding 50 and 60 [11, 12, 13, 14, 50, 60]\n",
            "after deleting 11 and 13 [12, 14, 50, 60]\n",
            "after sorting in ascending [12, 14, 50, 60]\n",
            "after sorting in decending order [60, 50, 14, 12]\n",
            "13 in L False\n",
            "number of element in L 4\n",
            "sum of odd is 0\n",
            "sum of even is  136\n",
            "sum of prime is 0\n",
            "l after clearing []\n"
          ]
        }
      ],
      "source": [
        "L=[11,12,13,14]\n",
        "print(\"the original l is\",L)\n",
        "L.append(50)\n",
        "L.append(60)\n",
        "print(\"after adding 50 and 60\",L)\n",
        "\n",
        "del L[0]\n",
        "del L[1]\n",
        "print(\"after deleting 11 and 13\",L)\n",
        "L.sort\n",
        "print(\"after sorting in ascending\",L)\n",
        "L.sort(reverse=True)\n",
        "print(\"after sorting in decending order\",L)\n",
        "print(\"13 in L\",13 in L)\n",
        "print(\"number of element in L\",len(L))\n",
        "s=0\n",
        "s1=0\n",
        "s2=0\n",
        "for i in L:\n",
        " if (i%2)==0:\n",
        "  \n",
        "  s=s+i\n",
        " else:\n",
        "  s1=s1+i\n",
        "\n",
        "print(\"sum of odd is\",s1)\n",
        "print(\"sum of even is \",s)\n",
        "\n",
        "def sumprime(c):\n",
        "  for a in range(2,c//2 +1):\n",
        "     if c%a==0:\n",
        "       return 0\n",
        "  return c\n",
        "\n",
        "\n",
        "\n",
        "\n",
        "for i in L:\n",
        "  b=sumprime(i)\n",
        "  s2=s2+b\n",
        "print(\"sum of prime is\",s2) \n",
        "L.clear()\n",
        "print(\"l after clearing\",L)\n",
        "del L\n",
        " \n",
        "\n",
        "  \n",
        "\n",
        "\n",
        "\n",
        "\n",
        "\n",
        "\n",
        "\n",
        "\n"
      ]
    },
    {
      "cell_type": "markdown",
      "source": [
        "D is dictionary defined as D= {1:5.6, 2:7.8, 3:6.6, 4:8.7, 5:7.7}.\n",
        " WAP to add new entry in D; key=8 and value is 8.8\n",
        "WAP to remove key=2.\n",
        "WAP to check weather 6 key is present in D.\n",
        "WAP to count the number of elements present in D. \n",
        "WAP to add all the values present D.\n",
        "WAP to update the value of 3 to 7.1.\n",
        "WAP to clear the dictionary."
      ],
      "metadata": {
        "id": "cjii7AoWylUp"
      }
    },
    {
      "cell_type": "code",
      "source": [
        "D={1:5.6, 2:7.8,3:6.6, 4:8.7, 5:7.7}\n",
        "D[8]=8.8\n",
        "print(\"D after adding\",D)\n",
        "del D[2]\n",
        "print(\"D after deleting key 2\",D)\n",
        "print(\"6 is in key of D\",6 in D.keys())\n",
        "print(\"number of element in D\",len(D))\n",
        "D[3]=7.1\n",
        "print(\"D after updating is\",D)\n",
        "D.clear()\n",
        "print(\"after clearing\",D)"
      ],
      "metadata": {
        "colab": {
          "base_uri": "https://localhost:8080/"
        },
        "id": "OQ0OOehPyk9r",
        "outputId": "cc92dffa-ccb3-43e9-8720-784cbb1f5896"
      },
      "execution_count": 24,
      "outputs": [
        {
          "output_type": "stream",
          "name": "stdout",
          "text": [
            "D after adding {1: 5.6, 2: 7.8, 3: 6.6, 4: 8.7, 5: 7.7, 8: 8.8}\n",
            "D after deleting key 2 {1: 5.6, 3: 6.6, 4: 8.7, 5: 7.7, 8: 8.8}\n",
            "6 is in key of D False\n",
            "number of element in D 5\n",
            "D after updating is {1: 5.6, 3: 7.1, 4: 8.7, 5: 7.7, 8: 8.8}\n",
            "after clearing {}\n"
          ]
        }
      ]
    },
    {
      "cell_type": "markdown",
      "source": [
        "S1 IS A SET DEFINED AS S1=[10,20,30,40,50,60]\n",
        "S2 is a set defined as S2= [40, 50, 60, 70, 80, 90].\n",
        "(i) WAP to add 55 and 66 in Set S1.\n",
        "(ii) WAP to remove 10 and 30 from Set S1.\n",
        "(iii) WAP to check whether 40 is present in S1.\n",
        "(iv) WAP to find the union between S1 and S2.\n",
        "(v) WAP to find the intersection between S1 and S2.\n",
        "(vi) WAP to find the S1 - S2."
      ],
      "metadata": {
        "id": "YaIHTgKh02xR"
      }
    },
    {
      "cell_type": "code",
      "source": [
        "s1=set(['10','20','30','40','50','60'])\n",
        "s2=set(['40','50','60','70','80','90'])\n",
        "s1.add(\"55\")\n",
        "s2.add(\"66\")\n",
        "print(\"s1 set after adding\",s1)\n",
        "print(\"s2 after adding\",s2)\n",
        "s1.remove(\"10\")\n",
        "s1.remove(\"30\")\n",
        "print(\"after remobing 10 and 30\",s1)\n",
        "print(\"40 is in s1\",40 in s1)\n",
        "print(\"union of two set is\",s1.union(s2))\n",
        "print(\"intersection of two set is\",s1.intersection(s2))\n",
        "print(\"difference of two set is\",s1-s2)"
      ],
      "metadata": {
        "colab": {
          "base_uri": "https://localhost:8080/"
        },
        "id": "Ys-wtces03C5",
        "outputId": "80b829bc-1835-42d9-e151-dbeacc8110ec"
      },
      "execution_count": 35,
      "outputs": [
        {
          "output_type": "stream",
          "name": "stdout",
          "text": [
            "s1 set after adding {'20', '50', '60', '55', '40', '10', '30'}\n",
            "s2 after adding {'80', '50', '90', '60', '70', '40', '66'}\n",
            "after remobing 10 and 30 {'20', '50', '60', '55', '40'}\n",
            "40 is in s1 False\n",
            "union of two set is {'20', '80', '50', '90', '60', '55', '40', '70', '66'}\n",
            "intersection of two set is {'40', '60', '50'}\n",
            "difference of two set is {'55', '20'}\n"
          ]
        }
      ]
    },
    {
      "cell_type": "markdown",
      "source": [
        " Write the following program.\n",
        "(i) WAP to print 100 random strings whose length between 6 and 8.\n",
        "(ii) WAP to print all prime numbers between 600 and 800.\n",
        "(iii) WAP to print all numbers between 100 and 1000 that are divisible by 7 and 9."
      ],
      "metadata": {
        "id": "g2g0L6rb5M4Z"
      }
    },
    {
      "cell_type": "code",
      "source": [
        "import string as s\n",
        "import random as r\n",
        "for _ in range (100):\n",
        "  strlen = r.randint(6,8)\n",
        "  randomstr= \"\".join(r.sample(s.ascii_letters,strlen))\n",
        "  print(randomstr)\n",
        "\n"
      ],
      "metadata": {
        "colab": {
          "base_uri": "https://localhost:8080/"
        },
        "id": "CDhQ401v5Mlx",
        "outputId": "4aa7ca07-61a0-48a1-a889-0b4a201958b5"
      },
      "execution_count": 47,
      "outputs": [
        {
          "output_type": "stream",
          "name": "stdout",
          "text": [
            "zOfZQaT\n",
            "oJDElkc\n",
            "fSQTdJx\n",
            "fazlJt\n",
            "GgNqlKp\n",
            "EveUjSk\n",
            "UmxLBpl\n",
            "TokJLNuZ\n",
            "ZlxMQa\n",
            "XKbWhygG\n",
            "SnaBMw\n",
            "pnZKhPIg\n",
            "qXIjBhJ\n",
            "LvYcHmN\n",
            "OQaFUSA\n",
            "jrWIGP\n",
            "euYnhmZ\n",
            "UnBrTS\n",
            "RwHoMh\n",
            "SlEGQs\n",
            "UWvJDlK\n",
            "BUwnQHF\n",
            "dZRCYxQs\n",
            "hUETvKw\n",
            "zbJaWKcq\n",
            "IOaMAoqy\n",
            "hlbFeQ\n",
            "lTURJW\n",
            "OTVzYr\n",
            "UgkxTec\n",
            "MRmdfits\n",
            "oVeLUIMm\n",
            "uajpMtN\n",
            "hlfTFug\n",
            "cDYuhBX\n",
            "zdhjMpc\n",
            "JWUNEagn\n",
            "JYWmVx\n",
            "zUTxaEt\n",
            "zTreUBW\n",
            "URGXHgZW\n",
            "ueFSjMd\n",
            "VwMhmqi\n",
            "zEWidrF\n",
            "cqhHRbml\n",
            "HDqoPzY\n",
            "zVKXFv\n",
            "ruCagjh\n",
            "zsMWyqpU\n",
            "ILkSnC\n",
            "lRxyvTjn\n",
            "fMkArlpP\n",
            "PmaATXc\n",
            "XPFfCTq\n",
            "QKHrbd\n",
            "pqoxQu\n",
            "wLIPkQ\n",
            "CchaATx\n",
            "vhAXcC\n",
            "KasJAV\n",
            "WNdnTmeB\n",
            "qNUvdXb\n",
            "xCLgQO\n",
            "SGYpXHV\n",
            "buBiXla\n",
            "qnZlvdfO\n",
            "OuYAMtw\n",
            "IKUDXdvh\n",
            "HFqglvkX\n",
            "bUxqWJM\n",
            "MivPRGc\n",
            "fnqXHNs\n",
            "hJSTWD\n",
            "QAbVyZ\n",
            "YUGXwq\n",
            "Nndlzw\n",
            "LhzOId\n",
            "DhHluYc\n",
            "HYkPsBT\n",
            "HgFUSkY\n",
            "jENOen\n",
            "DPVEUyR\n",
            "GFJfdgCk\n",
            "TaZjLYb\n",
            "HpWTSYQh\n",
            "tqTlJx\n",
            "pfolbXHG\n",
            "DiHZudr\n",
            "ZBbznNjQ\n",
            "UxdeVfG\n",
            "TjPNdWY\n",
            "BHKDwn\n",
            "ACNfLY\n",
            "wABLczJ\n",
            "riWIOpYu\n",
            "csnvHa\n",
            "zXgkpTcr\n",
            "aoBSuDx\n",
            "IREjLlwH\n",
            "ekBuHx\n"
          ]
        }
      ]
    },
    {
      "cell_type": "markdown",
      "source": [
        " WAP to create two lists of 10 random numbers between 10 and 30; Find\n",
        "(i) Common numbers in the two lists\n",
        "(ii) Unique numbers in both the list\n",
        "(iii) Minimum in both the list\n",
        "(iv) Maximum in both the list\n",
        "(v) Sum of both the lists"
      ],
      "metadata": {
        "id": "wLoQEQ89BVpH"
      }
    },
    {
      "cell_type": "code",
      "source": [
        "import string as s\n",
        "import random as r\n",
        "l1=(r.sample(range(10,31),10))\n",
        "l2=(r.sample(range(10,31),10))\n",
        "common_number = list(set(l1)& set(l2))\n",
        "print(\"print the common between l1 and l2\",common_number)\n",
        "print(\"unique number is\",set(l1).symmetric_difference(set(l2)))\n",
        "print(\"maximum in set l1\",max(l1))\n",
        "print(\"maximum in set l2\",max(l2))\n",
        "print(\"minimum in set l1\",min(l1))\n",
        "print(\"minimum in set l2\",min(l2))\n",
        "print(\"sum of list is\",sum(l1)+sum(l2))\n",
        "\n",
        "\n",
        "\n",
        "\n",
        "\n"
      ],
      "metadata": {
        "colab": {
          "base_uri": "https://localhost:8080/"
        },
        "id": "meBE0g0kBVHW",
        "outputId": "78baf410-a8c0-41c2-827f-0b05d6454b7f"
      },
      "execution_count": 61,
      "outputs": [
        {
          "output_type": "stream",
          "name": "stdout",
          "text": [
            "print the common between l1 and l2 [10, 11, 21, 28, 29]\n",
            "unique number is {12, 13, 14, 15, 16, 18, 24, 25, 26, 30}\n",
            "maximum in set l1 29\n",
            "maximum in set l2 30\n",
            "minimum in set l1 10\n",
            "minimum in set l2 10\n",
            "sum of list is 391\n"
          ]
        }
      ]
    },
    {
      "cell_type": "markdown",
      "source": [
        "Q6. WAP to create a list of 100 random numbers between 100 and 900. Count and print the:\n",
        "(i) All odd numbers\n",
        "(ii) All even numbers\n",
        "(iii) All prime numbers"
      ],
      "metadata": {
        "id": "cu8kpDnBH_7t"
      }
    },
    {
      "cell_type": "code",
      "source": [
        "import random as r\n",
        "l1=(r.sample(range(100,901),100))\n",
        "def prime(n):\n",
        "  if n < 2:\n",
        "     return False\n",
        "  for i in  range(2,int(n**0.5)+1):\n",
        "    if n%i==0:\n",
        "      return False\n",
        "  return True\n",
        "\n",
        "\n",
        "prime_numbers =[num for num in l1 if prime(num)]\n",
        "odd_numbers=[num for num in l1 if num%2==1]\n",
        "even_numbers=[num for num in l1 if num%2==0]\n",
        "\n",
        "print(\"odd numbers:\",odd_numbers)\n",
        "print(\"even numbers:\",even_numbers)\n",
        "print(\"prime numbers:\",prime_numbers)"
      ],
      "metadata": {
        "colab": {
          "base_uri": "https://localhost:8080/"
        },
        "id": "G96SG2Y6H_ox",
        "outputId": "e60613c2-91ef-40ca-a29a-5632d10713a3"
      },
      "execution_count": 65,
      "outputs": [
        {
          "output_type": "stream",
          "name": "stdout",
          "text": [
            "odd numbers: [469, 419, 157, 443, 853, 813, 513, 415, 279, 135, 673, 535, 201, 801, 281, 333, 289, 839, 615, 341, 695, 547, 567, 353, 315, 237, 771, 167, 491, 741, 875, 671, 863, 785, 155, 423, 635, 439, 283, 755, 729, 747, 627, 123, 501, 703, 487, 709, 531, 257]\n",
            "even numbers: [466, 474, 630, 744, 724, 492, 538, 860, 530, 114, 846, 450, 498, 898, 728, 878, 610, 684, 158, 660, 398, 124, 182, 266, 636, 206, 408, 774, 130, 614, 434, 628, 658, 292, 138, 406, 314, 888, 638, 238, 588, 786, 246, 850, 244, 384, 648, 370, 506, 790]\n",
            "prime numbers: [419, 157, 443, 853, 673, 281, 839, 547, 353, 167, 491, 863, 439, 283, 487, 709, 257]\n"
          ]
        }
      ]
    },
    {
      "cell_type": "markdown",
      "source": [
        "Q7. D is a dictionary defined as D={1:\"One\",2:\"Two\",3:\"Three\",4:\"Four\", 5:\"Five\"}.\n",
        "WAP to read all the keys and values from dictionary and write to the file in the given below format.\n",
        "Key1, Value1 Key2, Value2 Key3, Value3"
      ],
      "metadata": {
        "id": "fJ0aDh-vMjtm"
      }
    },
    {
      "cell_type": "code",
      "source": [
        "D={1:\"one\",2:\"two\",3:\"three\",4:\"four\",5:\"five\"}\n",
        "l1=list(D.keys())\n",
        "l2=list(D.Values())\n",
        "fp=open('error.txt','w')\n",
        "for i in l1:\n",
        " fp.write(f\"{l1},{l2}\\n\")\n",
        "fp.close()\n"
      ],
      "metadata": {
        "colab": {
          "base_uri": "https://localhost:8080/",
          "height": 240
        },
        "id": "QFEhOmBQMrlS",
        "outputId": "b8b80c8b-8922-459c-ccc2-7128244cf57c"
      },
      "execution_count": 69,
      "outputs": [
        {
          "output_type": "error",
          "ename": "AttributeError",
          "evalue": "ignored",
          "traceback": [
            "\u001b[0;31m---------------------------------------------------------------------------\u001b[0m",
            "\u001b[0;31mAttributeError\u001b[0m                            Traceback (most recent call last)",
            "\u001b[0;32m<ipython-input-69-6b0c97e834b5>\u001b[0m in \u001b[0;36m<cell line: 3>\u001b[0;34m()\u001b[0m\n\u001b[1;32m      1\u001b[0m \u001b[0mD\u001b[0m\u001b[0;34m=\u001b[0m\u001b[0;34m{\u001b[0m\u001b[0;36m1\u001b[0m\u001b[0;34m:\u001b[0m\u001b[0;34m\"one\"\u001b[0m\u001b[0;34m,\u001b[0m\u001b[0;36m2\u001b[0m\u001b[0;34m:\u001b[0m\u001b[0;34m\"two\"\u001b[0m\u001b[0;34m,\u001b[0m\u001b[0;36m3\u001b[0m\u001b[0;34m:\u001b[0m\u001b[0;34m\"three\"\u001b[0m\u001b[0;34m,\u001b[0m\u001b[0;36m4\u001b[0m\u001b[0;34m:\u001b[0m\u001b[0;34m\"four\"\u001b[0m\u001b[0;34m,\u001b[0m\u001b[0;36m5\u001b[0m\u001b[0;34m:\u001b[0m\u001b[0;34m\"five\"\u001b[0m\u001b[0;34m}\u001b[0m\u001b[0;34m\u001b[0m\u001b[0;34m\u001b[0m\u001b[0m\n\u001b[1;32m      2\u001b[0m \u001b[0ml1\u001b[0m\u001b[0;34m=\u001b[0m\u001b[0mlist\u001b[0m\u001b[0;34m(\u001b[0m\u001b[0mD\u001b[0m\u001b[0;34m.\u001b[0m\u001b[0mkeys\u001b[0m\u001b[0;34m(\u001b[0m\u001b[0;34m)\u001b[0m\u001b[0;34m)\u001b[0m\u001b[0;34m\u001b[0m\u001b[0;34m\u001b[0m\u001b[0m\n\u001b[0;32m----> 3\u001b[0;31m \u001b[0ml2\u001b[0m\u001b[0;34m=\u001b[0m\u001b[0mlist\u001b[0m\u001b[0;34m(\u001b[0m\u001b[0mD\u001b[0m\u001b[0;34m.\u001b[0m\u001b[0mValues\u001b[0m\u001b[0;34m(\u001b[0m\u001b[0;34m)\u001b[0m\u001b[0;34m)\u001b[0m\u001b[0;34m\u001b[0m\u001b[0;34m\u001b[0m\u001b[0m\n\u001b[0m\u001b[1;32m      4\u001b[0m \u001b[0mfp\u001b[0m\u001b[0;34m=\u001b[0m\u001b[0mopen\u001b[0m\u001b[0;34m(\u001b[0m\u001b[0;34m'error.txt'\u001b[0m\u001b[0;34m,\u001b[0m\u001b[0;34m'w'\u001b[0m\u001b[0;34m)\u001b[0m\u001b[0;34m\u001b[0m\u001b[0;34m\u001b[0m\u001b[0m\n\u001b[1;32m      5\u001b[0m \u001b[0;32mfor\u001b[0m \u001b[0mi\u001b[0m \u001b[0;32min\u001b[0m \u001b[0ml1\u001b[0m\u001b[0;34m:\u001b[0m\u001b[0;34m\u001b[0m\u001b[0;34m\u001b[0m\u001b[0m\n",
            "\u001b[0;31mAttributeError\u001b[0m: 'dict' object has no attribute 'Values'"
          ]
        }
      ]
    },
    {
      "cell_type": "markdown",
      "source": [
        "L is a list defined as L={\"One\",\"Two\",\"Three\",\"Four\",\"Five\"}.\n",
        "WAP to count the length of reach element from a list and write to the file in the given below format:\n",
        "One, 3 Two, 3 Four, 4"
      ],
      "metadata": {
        "id": "eO3tfctFQDgK"
      }
    },
    {
      "cell_type": "code",
      "source": [
        "import string\n",
        "L={\"one\",\"two\",\"three\",\"four\",\"five\"}\n",
        "fp=open(\"no8.txt\",\"w\")\n",
        "for n in L:\n",
        "  x=len(n)\n",
        "  fp.write(f\"{n},{x}\\n\")\n",
        "fp.close()\n",
        "\n",
        "\n"
      ],
      "metadata": {
        "id": "LcP7p112QDQa"
      },
      "execution_count": 72,
      "outputs": []
    },
    {
      "cell_type": "markdown",
      "source": [
        "Write to the file 100 random strings whose length between 10 and 15."
      ],
      "metadata": {
        "id": "5z10Ry0qSkc4"
      }
    },
    {
      "cell_type": "code",
      "source": [
        "import string as s\n",
        "import random as r\n",
        "l=[]\n",
        "for _ in range (100):\n",
        "  strlen = r.randint(10,15)\n",
        "  randomstr= \"\".join(r.sample(s.ascii_letters,strlen))\n",
        "  l.append(randomstr)\n",
        "fp=open(\"no9.txt\",\"w\")\n",
        "for n in l:\n",
        "  fp.write(f\"{n}\\n\")\n",
        "fp.close()\n"
      ],
      "metadata": {
        "id": "x_CF7JvXStpb"
      },
      "execution_count": 75,
      "outputs": []
    },
    {
      "cell_type": "markdown",
      "source": [
        "Q11. WAP to calculate the time taken by a program."
      ],
      "metadata": {
        "id": "qnSNUOEbU_LN"
      }
    },
    {
      "cell_type": "code",
      "source": [
        "import time as t\n",
        "initial_time= t.time()\n",
        "final_time= t.time()\n",
        "print(\"elasped time \",final_time-initial_time)\n"
      ],
      "metadata": {
        "colab": {
          "base_uri": "https://localhost:8080/"
        },
        "id": "qwlwwSZTVGhR",
        "outputId": "d08561ff-6189-4c33-ccae-f7924ae3d96c"
      },
      "execution_count": 76,
      "outputs": [
        {
          "output_type": "stream",
          "name": "stdout",
          "text": [
            "elasped time  6.818771362304688e-05\n"
          ]
        }
      ]
    },
    {
      "cell_type": "markdown",
      "source": [],
      "metadata": {
        "id": "FmOjQqwVWXQy"
      }
    },
    {
      "cell_type": "code",
      "source": [
        "import time\n",
        "import matplotlib.pyplot as plt\n",
        "def sort_list(elements):\n",
        "  l= [random.randint(1,1000) for _ in range(elements)]\n",
        "  initial_time=time.time()\n",
        "  l.sort()\n",
        "  final_time=time.time()\n",
        "  elapsed_time=final_time-initial_time\n",
        "  return elapsed_time\n",
        "L2=[50000,100000,150000,200000,250000]\n",
        "time_taken=[]\n",
        "for i in L2:\n",
        "  elapsed_time=sort_list(i)\n",
        "  time_taken.append(elapsed_time)\n",
        "plt.plot(L2,time_taken)\n",
        "plt.xlabel('no. of elements')\n",
        "plt.ylabel('time taken (sec)')\n",
        "plt.grid(True)\n",
        "plt.show()\n",
        "\n",
        "\n",
        "\n"
      ],
      "metadata": {
        "colab": {
          "base_uri": "https://localhost:8080/",
          "height": 449
        },
        "id": "Z61-7ZhdWZqn",
        "outputId": "b4f774ab-6bf5-42df-a2e8-47464a16ae10"
      },
      "execution_count": 80,
      "outputs": [
        {
          "output_type": "display_data",
          "data": {
            "text/plain": [
              "<Figure size 640x480 with 1 Axes>"
            ],
            "image/png": "[encoded data removed]"
          },
          "metadata": {}
        }
      ]
    },
    {
      "cell_type": "markdown",
      "source": [
        "WAP to create a dictionary of student marks in five subjects and you have to find the student having maximum and minimum average marks."
      ],
      "metadata": {
        "id": "g_74k01TaU_c"
      }
    },
    {
      "cell_type": "code",
      "source": [],
      "metadata": {
        "id": "lAQY6tIYaaPs"
      },
      "execution_count": null,
      "outputs": []
    }
  ]
}